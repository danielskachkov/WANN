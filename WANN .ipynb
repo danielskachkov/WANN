{
  "nbformat": 4,
  "nbformat_minor": 0,
  "metadata": {
    "colab": {
      "name": "WANN.ipynb",
      "provenance": [],
      "collapsed_sections": []
    },
    "kernelspec": {
      "name": "python3",
      "display_name": "Python 3"
    }
  },
  "cells": [
    {
      "cell_type": "code",
      "metadata": {
        "id": "TvmgjuZ7_UL3",
        "colab_type": "code",
        "colab": {
          "base_uri": "https://localhost:8080/",
          "height": 34
        },
        "outputId": "0d054035-0dd7-461c-84e6-943926c30b45"
      },
      "source": [
        "import numpy as np\n",
        "from matplotlib import pylab as plt\n",
        "from queue import Queue, PriorityQueue\n",
        "import random\n",
        "from sklearn.datasets import load_boston\n",
        "\n",
        "np.seterr(over='raise')"
      ],
      "execution_count": 1,
      "outputs": [
        {
          "output_type": "execute_result",
          "data": {
            "text/plain": [
              "{'divide': 'warn', 'invalid': 'warn', 'over': 'warn', 'under': 'ignore'}"
            ]
          },
          "metadata": {
            "tags": []
          },
          "execution_count": 1
        }
      ]
    },
    {
      "cell_type": "code",
      "metadata": {
        "id": "CENs6s6eAEch",
        "colab_type": "code",
        "colab": {}
      },
      "source": [
        "def levenstein_dist(s1, s2):\n",
        "  A = np.zeros((len(s1) + 1, len(s2) + 1))\n",
        "  A[0, :] = np.arange(len(s2) + 1)\n",
        "  A[:, 0] = np.arange(len(s1) + 1)\n",
        "  for i in range(1, len(s1) + 1):\n",
        "    for j in range(1, len(s2) + 1):\n",
        "      A[i][j] = min(A[i - 1][j] + 1, A[i][j - 1] + 1, A[i-1][j-1] + (0 if s1[i-1] == s2[j-1] else 1))\n",
        "  return A[-1][-1]"
      ],
      "execution_count": 0,
      "outputs": []
    },
    {
      "cell_type": "code",
      "metadata": {
        "id": "y9qfFOEjA0hb",
        "colab_type": "code",
        "colab": {}
      },
      "source": [
        "class WANN:\n",
        "  class Node:\n",
        "    def __init__(self, function, parent):\n",
        "      self.children = PriorityQueue()\n",
        "      self.function = function\n",
        "      self.parent = parent\n",
        "\n",
        "    def __str__(self):\n",
        "      if self.children.empty():\n",
        "        return self.function.function.__name__ + '(x)'\n",
        "      return self.function.function.__name__ + '(' + ', '.join([str(child) for child in self.children.queue]) + ')'\n",
        "\n",
        "    def str_dfs(self):\n",
        "      return str(self.function.priority_key) + ''.join([child.str_dfs() for child in self.children.queue])\n",
        "\n",
        "    def __lt__(self, other):\n",
        "      return self.function < other.function\n",
        "\n",
        "    def replace_with_random_subtree(self, nodes_num, childs_num_bounds, function_list):\n",
        "      new_subtree = WANN()\n",
        "      new_subtree.generate(nodes_num, childs_num_bounds, function_list)\n",
        "      new_subtree.top_node.parent = self.parent\n",
        "      self.parent.children.queue.remove(self)\n",
        "      self.parent.children.put(new_subtree.top_node)\n",
        "\n",
        "    def calculate(self, x, param):\n",
        "      if self.children.empty():\n",
        "        return self.function.function(param*np.sum(x))\n",
        "      return self.function.function(param*np.sum([child.calculate(x, param) for child in self.children.queue]))\n",
        "\n",
        "  def __init__(self):\n",
        "    self.top_node = -1\n",
        "\n",
        "  def copy(self):\n",
        "    return self.get_subtree_copy(self.top_node)\n",
        "\n",
        "  def get_subtree_copy(self, top_node):\n",
        "    q = Queue()\n",
        "    new_wann = WANN()\n",
        "    new_wann.top_node = self.Node(top_node.function, -1)\n",
        "    for child in top_node.children.queue:\n",
        "      q.put((child, new_wann.top_node))\n",
        "    while not q.empty():\n",
        "      node, parent = q.get()\n",
        "      new_node = self.Node(node.function, parent)\n",
        "      parent.children.put(new_node)\n",
        "      for child in node.children.queue:\n",
        "        q.put((child, new_node))\n",
        "    return new_wann\n",
        "\n",
        "  def count_nodes(self):\n",
        "    nodes_num = 0\n",
        "    q = Queue()\n",
        "    q.put(self.top_node)\n",
        "    while not q.empty():\n",
        "      node = q.get()\n",
        "      nodes_num += 1\n",
        "      for child in node.children.queue:\n",
        "        q.put(child)\n",
        "    return nodes_num\n",
        "\n",
        "\n",
        "  def __str__(self):\n",
        "    return str(self.top_node)\n",
        "\n",
        "  def str_dfs(self):\n",
        "      return self.top_node.str_dfs()\n",
        "\n",
        "  def dist(self, other):\n",
        "    return levenstein_dist(self.str_dfs(), other.str_dfs())\n",
        "\n",
        "  def select_random_node(self):\n",
        "    q = Queue()\n",
        "    nodes = []\n",
        "    for child in self.top_node.children.queue:\n",
        "      q.put(child)\n",
        "    while not q.empty():\n",
        "      node = q.get()\n",
        "      nodes.append(node)\n",
        "      for child in node.children.queue:\n",
        "        q.put(child)\n",
        "    return random.choice(nodes)\n",
        "\n",
        "  def mutate(self, nodes_num, childs_num_bounds, function_list):\n",
        "    new_wann = self.copy()\n",
        "    node = new_wann.select_random_node()\n",
        "    node.replace_with_random_subtree(nodes_num, childs_num_bounds, function_list)\n",
        "    return new_wann\n",
        "\n",
        "  def crossover(self, other):\n",
        "    new_wann = self.copy()\n",
        "    node1 = new_wann.select_random_node()\n",
        "    node2 = other.select_random_node()\n",
        "    new_subtree = other.get_subtree_copy(node2)\n",
        "    new_subtree.top_node.parent = node1.parent\n",
        "    node1.parent.children.queue.remove(node1)\n",
        "    node1.parent.children.put(new_subtree.top_node)\n",
        "    return new_wann\n",
        "  \n",
        "  def generate(self, nodes_num, childs_num_bounds, function_list):\n",
        "    if type(nodes_num) == type(tuple):\n",
        "      nodes_num = np.random.randint(nodes_num[0], nodes_num[1] + 1)\n",
        "    length = 1\n",
        "    self.top_node = self.Node(np.random.choice(function_list), -1)\n",
        "    q = []\n",
        "    q.append(self.top_node)\n",
        "    while length < nodes_num:\n",
        "      node = random.choice(q)\n",
        "      q.remove(node)\n",
        "      childs_num = np.random.randint(childs_num_bounds[0], childs_num_bounds[1] + 1)\n",
        "      for _ in range(childs_num):\n",
        "        new_child = self.Node(np.random.choice(function_list), node)\n",
        "        q.append(new_child)\n",
        "        node.children.put(new_child)\n",
        "      length += childs_num\n",
        "    return self\n",
        "\n",
        "  def calculate(self, x, param):\n",
        "    try:\n",
        "      return self.top_node.calculate(x, param)\n",
        "    except:\n",
        "      return np.inf\n",
        "\n",
        "  def err(self, X, Y, params):\n",
        "    error = 0\n",
        "    for param in params:\n",
        "      error += np.linalg.norm(Y - [self.calculate(x, param) for x in X])\n",
        "    return error/len(params)\n",
        "\n",
        "  def optimise_param(self, X, Y, params):\n",
        "    optimal = params[0]\n",
        "    min_err = np.inf\n",
        "    for param in params:\n",
        "      error = self.err(X, Y, [param])\n",
        "      if error < min_err:\n",
        "        min_err = error\n",
        "        optimal = param\n",
        "    return optimal, min_err"
      ],
      "execution_count": 0,
      "outputs": []
    },
    {
      "cell_type": "code",
      "metadata": {
        "id": "ipiOazuLA7H2",
        "colab_type": "code",
        "colab": {}
      },
      "source": [
        "class Function:\n",
        "  def __init__(self, function, priority_key):\n",
        "    self.function = function\n",
        "    self.priority_key = priority_key\n",
        "  \n",
        "  def __lt__(self, other):\n",
        "    return self.priority_key < other.priority_key"
      ],
      "execution_count": 0,
      "outputs": []
    },
    {
      "cell_type": "code",
      "metadata": {
        "id": "_ZbQ1DU4qmmU",
        "colab_type": "code",
        "colab": {}
      },
      "source": [
        "def diam(T):\n",
        "  d = 0\n",
        "  for t1 in T:\n",
        "    for t2 in T:\n",
        "      d = max(d, t1.dist(t2))\n",
        "  return d\n",
        "\n",
        "def genetic_alg(X, Y, params, population_size, nodes_num, childs_bounds, mutation_nodes_num, function_list, mutations_num, crossovers_num, stagnation_diam, eps, max_epochs=100, return_history=False):\n",
        "  population = [WANN().generate(nodes_num, childs_bounds, function_list) for _ in range(population_size)]\n",
        "  epoch = 1\n",
        "  errs = Queue()\n",
        "  history = []\n",
        "  while population[0].err(X, Y, params) > eps and epoch <= max_epochs:\n",
        "    print(str(epoch) + \" epoch starting...\")\n",
        "    #print(population[0].err(X, Y, params))\n",
        "    epoch += 1\n",
        "    #mutated = [wann.mutate(mutation_nodes_num, childs_bounds, function_list) for wann in random.sample(population, mutations_num)]\n",
        "    mutated = [wann.mutate(mutation_nodes_num, childs_bounds, function_list) for wann in population[population_size//2:]]\n",
        "    crossovered = []\n",
        "    for _ in range(crossovers_num):\n",
        "      parents = random.sample(population[:population_size//2], 2)\n",
        "      crossovered.append(parents[0].crossover(parents[1]))\n",
        "    population = population + mutated + crossovered\n",
        "    population = sorted(population, key=lambda wann: wann.err(X, Y, params))[:population_size]\n",
        "    \"\"\"\n",
        "    if diam(population) <= stagnation_diam:  #stagnation detected!\n",
        "      for wann in population[population_size//2:]:  #replace the wordst ones with generated\n",
        "        wann.generate(nodes_num, childs_bounds, function_list)\n",
        "    \"\"\"\n",
        "    error = population[0].err(X, Y, params)\n",
        "    errs.put(error)\n",
        "    if errs.qsize() == 6:\n",
        "      if error/errs.get() > 0.9:\n",
        "        for wann in population[population_size//2:]:  #replace the wordst ones with generated\n",
        "          wann.generate(nodes_num, childs_bounds, function_list)\n",
        "    if return_history:\n",
        "      history.append(error)\n",
        "  if return_history:\n",
        "    return population[0], history\n",
        "  return population[0]"
      ],
      "execution_count": 0,
      "outputs": []
    },
    {
      "cell_type": "code",
      "metadata": {
        "id": "GfRLdciixleu",
        "colab_type": "code",
        "colab": {}
      },
      "source": [
        "functions = [np.sin, np.cos]\n",
        "k = 0\n",
        "function_list = []\n",
        "for f in functions:\n",
        "  function_list.append(Function(f, k))\n",
        "  k += 1"
      ],
      "execution_count": 0,
      "outputs": []
    },
    {
      "cell_type": "code",
      "metadata": {
        "id": "YFnp1eVjxsIJ",
        "colab_type": "code",
        "outputId": "3051dc7e-339d-450e-99dd-f2dd05be052a",
        "colab": {
          "base_uri": "https://localhost:8080/",
          "height": 282
        }
      },
      "source": [
        "X = np.arange(0, 15, 0.5)\n",
        "Y = np.sin(np.cos(X) + np.sin(X)) + np.random.randn(30)/15\n",
        "plt.plot(X, Y, 'o')\n",
        "plt.plot(np. arange(0, 15, 0.1), np.sin(np.cos(np.arange(0, 15, 0.1)) + np.sin(np.arange(0, 15, 0.1))))"
      ],
      "execution_count": 18,
      "outputs": [
        {
          "output_type": "execute_result",
          "data": {
            "text/plain": [
              "[<matplotlib.lines.Line2D at 0x7fe339496a20>]"
            ]
          },
          "metadata": {
            "tags": []
          },
          "execution_count": 18
        },
        {
          "output_type": "display_data",
          "data": {
            "image/png": "[encoded data removed]",
            "text/plain": [
              "<Figure size 432x288 with 1 Axes>"
            ]
          },
          "metadata": {
            "tags": []
          }
        }
      ]
    },
    {
      "cell_type": "code",
      "metadata": {
        "id": "Y9eTAj8D4jrB",
        "colab_type": "code",
        "outputId": "8567837f-defd-4df7-c2bc-cf30b5a97835",
        "colab": {
          "base_uri": "https://localhost:8080/",
          "height": 272
        }
      },
      "source": [
        "wann = genetic_alg(X, Y, [1], 10, 6, (1, 3), 3, function_list, 3, 3, 0, 1)"
      ],
      "execution_count": 8,
      "outputs": [
        {
          "output_type": "stream",
          "text": [
            "1 epoch starting...\n",
            "2 epoch starting...\n",
            "3 epoch starting...\n",
            "4 epoch starting...\n",
            "5 epoch starting...\n",
            "6 epoch starting...\n",
            "7 epoch starting...\n",
            "8 epoch starting...\n",
            "9 epoch starting...\n",
            "10 epoch starting...\n",
            "11 epoch starting...\n",
            "12 epoch starting...\n",
            "13 epoch starting...\n",
            "14 epoch starting...\n",
            "15 epoch starting...\n"
          ],
          "name": "stdout"
        }
      ]
    },
    {
      "cell_type": "code",
      "metadata": {
        "id": "lcwV2FIM4tqR",
        "colab_type": "code",
        "outputId": "c245ee3d-7b6d-483d-f3a6-c53b7b9cd5ef",
        "colab": {
          "base_uri": "https://localhost:8080/",
          "height": 282
        }
      },
      "source": [
        "x = np.arange(0, 15, 0.1)\n",
        "plt.plot(x, [wann.calculate(i, 1) for i in x])\n",
        "plt.plot(X, Y, 'o')"
      ],
      "execution_count": 9,
      "outputs": [
        {
          "output_type": "execute_result",
          "data": {
            "text/plain": [
              "[<matplotlib.lines.Line2D at 0x7fbbd9ee2cf8>]"
            ]
          },
          "metadata": {
            "tags": []
          },
          "execution_count": 9
        },
        {
          "output_type": "display_data",
          "data": {
            "image/png": "[encoded data removed]",
            "text/plain": [
              "<Figure size 432x288 with 1 Axes>"
            ]
          },
          "metadata": {
            "tags": []
          }
        }
      ]
    },
    {
      "cell_type": "code",
      "metadata": {
        "id": "DyDHyMRiQCRl",
        "colab_type": "code",
        "colab": {}
      },
      "source": [
        "def sqr(x):\n",
        "  return x**2\n",
        "\n",
        "def sigmoid(x):\n",
        "  return 1/(1 + np.exp(-x))\n",
        "\n",
        "def lin1(x):\n",
        "  return x\n",
        "\n",
        "def lin2(x):\n",
        "  return 2*x\n",
        "\n",
        "def lin05(x):\n",
        "  return 0.5*x\n",
        "\n",
        "functions = [np.sin, np.cos, sqr, sigmoid, np.exp, lin1, lin2, lin05]\n",
        "k = 0\n",
        "function_list = []\n",
        "for f in functions:\n",
        "  function_list.append(Function(f, k))\n",
        "  k += 1"
      ],
      "execution_count": 0,
      "outputs": []
    },
    {
      "cell_type": "code",
      "metadata": {
        "id": "ry50PfkrelXJ",
        "colab_type": "code",
        "colab": {}
      },
      "source": [
        "X, y = load_boston(return_X_y=True)\n",
        "X_train, y_train = X[:400], y[:400]\n",
        "X_test, y_test = X[400:], y[400:]"
      ],
      "execution_count": 0,
      "outputs": []
    },
    {
      "cell_type": "code",
      "metadata": {
        "id": "NaQxFPtpRjS3",
        "colab_type": "code",
        "outputId": "c1c5822d-f910-4a7b-81fb-6ee068e19599",
        "colab": {
          "base_uri": "https://localhost:8080/",
          "height": 1000
        }
      },
      "source": [
        "wann, history = genetic_alg(X_train, y_train, [-2, -1, 1, 2], 10, 10, (1, 4), 3, function_list, 5, 5, 0, 0, 50, True)\n",
        "plt.plot(np.log(history))\n",
        "print(wann.optimise_param(X_train, y_train, np.arange(-10, 10, 0.5)))"
      ],
      "execution_count": 9,
      "outputs": [
        {
          "output_type": "stream",
          "text": [
            "1 epoch starting...\n",
            "2 epoch starting...\n",
            "3 epoch starting...\n",
            "4 epoch starting...\n",
            "5 epoch starting...\n",
            "6 epoch starting...\n",
            "7 epoch starting...\n",
            "8 epoch starting...\n",
            "9 epoch starting...\n",
            "10 epoch starting...\n",
            "11 epoch starting...\n",
            "12 epoch starting...\n",
            "13 epoch starting...\n",
            "14 epoch starting...\n",
            "15 epoch starting...\n",
            "16 epoch starting...\n",
            "17 epoch starting...\n",
            "18 epoch starting...\n",
            "19 epoch starting...\n",
            "20 epoch starting...\n",
            "21 epoch starting...\n",
            "22 epoch starting...\n",
            "23 epoch starting...\n",
            "24 epoch starting...\n",
            "25 epoch starting...\n",
            "26 epoch starting...\n",
            "27 epoch starting...\n",
            "28 epoch starting...\n",
            "29 epoch starting...\n",
            "30 epoch starting...\n",
            "31 epoch starting...\n",
            "32 epoch starting...\n",
            "33 epoch starting...\n",
            "34 epoch starting...\n",
            "35 epoch starting...\n",
            "36 epoch starting...\n",
            "37 epoch starting...\n",
            "38 epoch starting...\n",
            "39 epoch starting...\n",
            "40 epoch starting...\n",
            "41 epoch starting...\n",
            "42 epoch starting...\n",
            "43 epoch starting...\n",
            "44 epoch starting...\n",
            "45 epoch starting...\n",
            "46 epoch starting...\n",
            "47 epoch starting...\n",
            "48 epoch starting...\n",
            "49 epoch starting...\n",
            "50 epoch starting...\n",
            "(3.0, 201.85212109672221)\n"
          ],
          "name": "stdout"
        },
        {
          "output_type": "display_data",
          "data": {
            "image/png": "[encoded data removed]",
            "text/plain": [
              "<Figure size 432x288 with 1 Axes>"
            ]
          },
          "metadata": {
            "tags": []
          }
        }
      ]
    },
    {
      "cell_type": "code",
      "metadata": {
        "id": "-vWnEqZDSDJZ",
        "colab_type": "code",
        "outputId": "48dc4728-c712-46ee-f284-853e570b0222",
        "colab": {
          "base_uri": "https://localhost:8080/",
          "height": 34
        }
      },
      "source": [
        "print(wann.err(X_test, y_test, [3]))"
      ],
      "execution_count": 10,
      "outputs": [
        {
          "output_type": "stream",
          "text": [
            "70.72846067351628\n"
          ],
          "name": "stdout"
        }
      ]
    },
    {
      "cell_type": "code",
      "metadata": {
        "id": "wJlr61lmbo-A",
        "colab_type": "code",
        "outputId": "724dd4e6-98fb-4c87-9e8d-573b213c1bf5",
        "colab": {
          "base_uri": "https://localhost:8080/",
          "height": 207
        }
      },
      "source": [
        "print(wann)\n",
        "print([wann.calculate(x, 3) for x in X_test])\n",
        "print(y_test)"
      ],
      "execution_count": 16,
      "outputs": [
        {
          "output_type": "stream",
          "text": [
            "exp(sigmoid(lin1(x), lin2(x), lin1(x)))\n",
            "[20.085536923187668, 20.085536923187668, 20.085536923187668, 20.085536923187668, 20.085536923187668, 20.085536923187668, 20.085536923187668, 20.085536923187668, 20.085536923187668, 20.085536923187668, 20.085536923187668, 20.085536923187668, 20.085536923187668, 20.085536923187668, 20.085536923187668, 20.085536923187668, 20.085536923187668, 20.085536923187668, 20.085536923187668, 20.085536923187668, 20.085536923187668, 20.085536923187668, 20.085536923187668, 20.085536923187668, 20.085536923187668, 20.085536923187668, 20.085536923187668, 20.085536923187668, 20.085536923187668, 20.085536923187668, 20.085536923187668, 20.085536923187668, 20.085536923187668, 20.085536923187668, 20.085536923187668, 20.085536923187668, 20.085536923187668, 20.085536923187668, 20.085536923187668, 20.085536923187668, 20.085536923187668, 20.085536923187668, 20.085536923187668, 20.085536923187668, 20.085536923187668, 20.085536923187668, 20.085536923187668, 20.085536923187668, 20.085536923187668, 20.085536923187668, 20.085536923187668, 20.085536923187668, 20.085536923187668, 20.085536923187668, 20.085536923187668, 20.085536923187668, 20.085536923187668, 20.085536923187668, 20.085536923187668, 20.085536923187668, 20.085536923187668, 20.085536923187668, 20.085536923187668, 20.085536923187668, 20.085536923187668, 20.085536923187668, 20.085536923187668, 20.085536923187668, 20.085536923187668, 20.085536923187668, 20.085536923187668, 20.085536923187668, 20.085536923187668, 20.085536923187668, 20.085536923187668, 20.085536923187668, 20.085536923187668, 20.085536923187668, 20.085536923187668, 20.085536923187668, 20.085536923187668, 20.085536923187668, 20.085536923187668, 20.085536923187668, 20.085536923187668, 20.085536923187668, 20.085536923187668, 20.085536923187668, 20.085536923187668, 20.085536923187668, 20.085536923187668, 20.085536923187668, 20.085536923187668, 20.085536923187668, 20.085536923187668, 20.085536923187668, 20.085536923187668, 20.085536923187668, 20.085536923187668, 20.085536923187668, 20.085536923187668, 20.085536923187668, 20.085536923187668, 20.085536923187668, 20.085536923187668, 20.085536923187668]\n",
            "[ 5.6  7.2 12.1  8.3  8.5  5.  11.9 27.9 17.2 27.5 15.  17.2 17.9 16.3\n",
            "  7.   7.2  7.5 10.4  8.8  8.4 16.7 14.2 20.8 13.4 11.7  8.3 10.2 10.9\n",
            " 11.   9.5 14.5 14.1 16.1 14.3 11.7 13.4  9.6  8.7  8.4 12.8 10.5 17.1\n",
            " 18.4 15.4 10.8 11.8 14.9 12.6 14.1 13.  13.4 15.2 16.1 17.8 14.9 14.1\n",
            " 12.7 13.5 14.9 20.  16.4 17.7 19.5 20.2 21.4 19.9 19.  19.1 19.1 20.1\n",
            " 19.9 19.6 23.2 29.8 13.8 13.3 16.7 12.  14.6 21.4 23.  23.7 25.  21.8\n",
            " 20.6 21.2 19.1 20.6 15.2  7.   8.1 13.6 20.1 21.8 24.5 23.1 19.7 18.3\n",
            " 21.2 17.5 16.8 22.4 20.6 23.9 22.  11.9]\n"
          ],
          "name": "stdout"
        }
      ]
    },
    {
      "cell_type": "code",
      "metadata": {
        "id": "4p2VgvUDZIZx",
        "colab_type": "code",
        "outputId": "b9625ccf-eac8-4e1a-f82f-c1cf68601911",
        "colab": {
          "base_uri": "https://localhost:8080/",
          "height": 34
        }
      },
      "source": [
        "w = np.linalg.pinv(X_train)@y_train\n",
        "print(np.linalg.norm(X_train@w - y_train))"
      ],
      "execution_count": 12,
      "outputs": [
        {
          "output_type": "stream",
          "text": [
            "97.07846201242472\n"
          ],
          "name": "stdout"
        }
      ]
    },
    {
      "cell_type": "code",
      "metadata": {
        "id": "cO45sJZzxj4v",
        "colab_type": "code",
        "colab": {}
      },
      "source": [
        "X = np.arange(0, 15, 0.5)\n",
        "Y = np.sin(np.cos(X) + np.sin(X)) + np.random.randn(30)/15"
      ],
      "execution_count": 0,
      "outputs": []
    },
    {
      "cell_type": "code",
      "metadata": {
        "id": "C7r0k9L7xQKF",
        "colab_type": "code",
        "outputId": "0800e080-0251-407f-d1c8-3d48b82adf5e",
        "colab": {
          "base_uri": "https://localhost:8080/",
          "height": 51
        }
      },
      "source": [
        "wann1 = WANN()\n",
        "wann2 = WANN()\n",
        "wann = WANN()\n",
        "params = [1]\n",
        "a = 0\n",
        "b = 0\n",
        "c = 0\n",
        "aa = 0\n",
        "bb = 0\n",
        "cc = 0\n",
        "\n",
        "for _ in range(10000):\n",
        "  wann1.generate(10, (1, 3), function_list)\n",
        "  wann2.generate(10, (1, 3), function_list)\n",
        "  wann.generate(10, (1, 3), function_list)\n",
        "  child = wann1.crossover(wann2)\n",
        "  error = wann.err(X, Y, params)\n",
        "  error1 = wann1.err(X, Y, params)\n",
        "  error2 = wann2.err(X, Y, params)\n",
        "  if error > max(error1, error2):\n",
        "    a += 1\n",
        "  elif error >= min(error1, error2):\n",
        "    b += 1\n",
        "  else:\n",
        "    c += 1\n",
        "  error = child.err(X, Y, params)\n",
        "  if error > max(error1, error2):\n",
        "    aa += 1\n",
        "  elif error >= min(error1, error2):\n",
        "    bb += 1\n",
        "  else:\n",
        "    cc += 1\n",
        "print(a, b, c)\n",
        "print(aa, bb, cc)"
      ],
      "execution_count": 19,
      "outputs": [
        {
          "output_type": "stream",
          "text": [
            "3042 3682 3276\n",
            "1694 5917 2389\n"
          ],
          "name": "stdout"
        }
      ]
    },
    {
      "cell_type": "code",
      "metadata": {
        "id": "GynLx9oN9JPD",
        "colab_type": "code",
        "outputId": "7c1e9eee-d1a0-49b0-f4e2-1d5ee00e641d",
        "colab": {
          "base_uri": "https://localhost:8080/",
          "height": 1000
        }
      },
      "source": [
        "for _ in range(20):\n",
        "  history1 = []\n",
        "  histiry2 = genetic_alg(X_train, y_train, [1], 10, 10, (1, 3), 4, function_list, 5, 5, 0, 0, 50, True)[1]\n",
        "  min_err = np.inf\n",
        "  for _ in range(1, 751):\n",
        "    wann = WANN().generate(10, (1, 3), function_list)\n",
        "    min_err = min(wann.err(X_train, y_train, [1]), min_err)\n",
        "    if _%15 == 0:\n",
        "      history1.append(min_err)\n",
        "  plt.plot(history1, label=\"random\")\n",
        "  plt.plot(histiry2, label=\"genetic\")\n",
        "  plt.legend()\n",
        "  plt.show()"
      ],
      "execution_count": 8,
      "outputs": [
        {
          "output_type": "stream",
          "text": [
            "1 epoch starting...\n",
            "2 epoch starting...\n",
            "3 epoch starting...\n",
            "4 epoch starting...\n",
            "5 epoch starting...\n",
            "6 epoch starting...\n",
            "7 epoch starting...\n",
            "8 epoch starting...\n",
            "9 epoch starting...\n",
            "10 epoch starting...\n",
            "11 epoch starting...\n",
            "12 epoch starting...\n",
            "13 epoch starting...\n",
            "14 epoch starting...\n",
            "15 epoch starting...\n",
            "16 epoch starting...\n",
            "17 epoch starting...\n",
            "18 epoch starting...\n",
            "19 epoch starting...\n",
            "20 epoch starting...\n",
            "21 epoch starting...\n",
            "22 epoch starting...\n",
            "23 epoch starting...\n",
            "24 epoch starting...\n",
            "25 epoch starting...\n",
            "26 epoch starting...\n",
            "27 epoch starting...\n",
            "28 epoch starting...\n",
            "29 epoch starting...\n",
            "30 epoch starting...\n",
            "31 epoch starting...\n",
            "32 epoch starting...\n",
            "33 epoch starting...\n",
            "34 epoch starting...\n",
            "35 epoch starting...\n",
            "36 epoch starting...\n",
            "37 epoch starting...\n",
            "38 epoch starting...\n",
            "39 epoch starting...\n",
            "40 epoch starting...\n",
            "41 epoch starting...\n",
            "42 epoch starting...\n",
            "43 epoch starting...\n",
            "44 epoch starting...\n",
            "45 epoch starting...\n",
            "46 epoch starting...\n",
            "47 epoch starting...\n",
            "48 epoch starting...\n",
            "49 epoch starting...\n",
            "50 epoch starting...\n"
          ],
          "name": "stdout"
        },
        {
          "output_type": "display_data",
          "data": {
            "image/png": "[encoded data removed]",
            "text/plain": [
              "<Figure size 432x288 with 1 Axes>"
            ]
          },
          "metadata": {
            "tags": []
          }
        },
        {
          "output_type": "stream",
          "text": [
            "1 epoch starting...\n",
            "2 epoch starting...\n",
            "3 epoch starting...\n",
            "4 epoch starting...\n",
            "5 epoch starting...\n",
            "6 epoch starting...\n",
            "7 epoch starting...\n",
            "8 epoch starting...\n",
            "9 epoch starting...\n",
            "10 epoch starting...\n",
            "11 epoch starting...\n",
            "12 epoch starting...\n",
            "13 epoch starting...\n",
            "14 epoch starting...\n",
            "15 epoch starting...\n",
            "16 epoch starting...\n",
            "17 epoch starting...\n",
            "18 epoch starting...\n",
            "19 epoch starting...\n",
            "20 epoch starting...\n",
            "21 epoch starting...\n",
            "22 epoch starting...\n",
            "23 epoch starting...\n",
            "24 epoch starting...\n",
            "25 epoch starting...\n",
            "26 epoch starting...\n",
            "27 epoch starting...\n",
            "28 epoch starting...\n",
            "29 epoch starting...\n",
            "30 epoch starting...\n",
            "31 epoch starting...\n",
            "32 epoch starting...\n",
            "33 epoch starting...\n",
            "34 epoch starting...\n",
            "35 epoch starting...\n",
            "36 epoch starting...\n",
            "37 epoch starting...\n",
            "38 epoch starting...\n",
            "39 epoch starting...\n",
            "40 epoch starting...\n",
            "41 epoch starting...\n",
            "42 epoch starting...\n",
            "43 epoch starting...\n",
            "44 epoch starting...\n",
            "45 epoch starting...\n",
            "46 epoch starting...\n",
            "47 epoch starting...\n",
            "48 epoch starting...\n",
            "49 epoch starting...\n",
            "50 epoch starting...\n"
          ],
          "name": "stdout"
        },
        {
          "output_type": "display_data",
          "data": {
            "image/png": "[encoded data removed]",
            "text/plain": [
              "<Figure size 432x288 with 1 Axes>"
            ]
          },
          "metadata": {
            "tags": []
          }
        },
        {
          "output_type": "stream",
          "text": [
            "1 epoch starting...\n",
            "2 epoch starting...\n",
            "3 epoch starting...\n",
            "4 epoch starting...\n",
            "5 epoch starting...\n",
            "6 epoch starting...\n",
            "7 epoch starting...\n",
            "8 epoch starting...\n",
            "9 epoch starting...\n",
            "10 epoch starting...\n",
            "11 epoch starting...\n",
            "12 epoch starting...\n",
            "13 epoch starting...\n",
            "14 epoch starting...\n",
            "15 epoch starting...\n",
            "16 epoch starting...\n",
            "17 epoch starting...\n",
            "18 epoch starting...\n",
            "19 epoch starting...\n",
            "20 epoch starting...\n",
            "21 epoch starting...\n",
            "22 epoch starting...\n",
            "23 epoch starting...\n",
            "24 epoch starting...\n",
            "25 epoch starting...\n",
            "26 epoch starting...\n",
            "27 epoch starting...\n",
            "28 epoch starting...\n",
            "29 epoch starting...\n",
            "30 epoch starting...\n",
            "31 epoch starting...\n",
            "32 epoch starting...\n",
            "33 epoch starting...\n",
            "34 epoch starting...\n",
            "35 epoch starting...\n",
            "36 epoch starting...\n",
            "37 epoch starting...\n",
            "38 epoch starting...\n",
            "39 epoch starting...\n",
            "40 epoch starting...\n",
            "41 epoch starting...\n",
            "42 epoch starting...\n",
            "43 epoch starting...\n",
            "44 epoch starting...\n",
            "45 epoch starting...\n",
            "46 epoch starting...\n",
            "47 epoch starting...\n",
            "48 epoch starting...\n",
            "49 epoch starting...\n",
            "50 epoch starting...\n"
          ],
          "name": "stdout"
        },
        {
          "output_type": "display_data",
          "data": {
            "image/png": "[encoded data removed]",
            "text/plain": [
              "<Figure size 432x288 with 1 Axes>"
            ]
          },
          "metadata": {
            "tags": []
          }
        },
        {
          "output_type": "stream",
          "text": [
            "1 epoch starting...\n",
            "2 epoch starting...\n",
            "3 epoch starting...\n",
            "4 epoch starting...\n",
            "5 epoch starting...\n",
            "6 epoch starting...\n",
            "7 epoch starting...\n",
            "8 epoch starting...\n",
            "9 epoch starting...\n",
            "10 epoch starting...\n",
            "11 epoch starting...\n",
            "12 epoch starting...\n",
            "13 epoch starting...\n",
            "14 epoch starting...\n",
            "15 epoch starting...\n",
            "16 epoch starting...\n",
            "17 epoch starting...\n",
            "18 epoch starting...\n",
            "19 epoch starting...\n",
            "20 epoch starting...\n",
            "21 epoch starting...\n",
            "22 epoch starting...\n",
            "23 epoch starting...\n",
            "24 epoch starting...\n",
            "25 epoch starting...\n",
            "26 epoch starting...\n",
            "27 epoch starting...\n",
            "28 epoch starting...\n",
            "29 epoch starting...\n",
            "30 epoch starting...\n",
            "31 epoch starting...\n",
            "32 epoch starting...\n",
            "33 epoch starting...\n",
            "34 epoch starting...\n",
            "35 epoch starting...\n",
            "36 epoch starting...\n",
            "37 epoch starting...\n",
            "38 epoch starting...\n",
            "39 epoch starting...\n",
            "40 epoch starting...\n",
            "41 epoch starting...\n",
            "42 epoch starting...\n",
            "43 epoch starting...\n",
            "44 epoch starting...\n",
            "45 epoch starting...\n",
            "46 epoch starting...\n",
            "47 epoch starting...\n",
            "48 epoch starting...\n",
            "49 epoch starting...\n",
            "50 epoch starting...\n"
          ],
          "name": "stdout"
        },
        {
          "output_type": "display_data",
          "data": {
            "image/png": "[encoded data removed]",
            "text/plain": [
              "<Figure size 432x288 with 1 Axes>"
            ]
          },
          "metadata": {
            "tags": []
          }
        },
        {
          "output_type": "stream",
          "text": [
            "1 epoch starting...\n",
            "2 epoch starting...\n",
            "3 epoch starting...\n",
            "4 epoch starting...\n",
            "5 epoch starting...\n",
            "6 epoch starting...\n",
            "7 epoch starting...\n",
            "8 epoch starting...\n",
            "9 epoch starting...\n",
            "10 epoch starting...\n",
            "11 epoch starting...\n",
            "12 epoch starting...\n",
            "13 epoch starting...\n",
            "14 epoch starting...\n",
            "15 epoch starting...\n",
            "16 epoch starting...\n",
            "17 epoch starting...\n",
            "18 epoch starting...\n",
            "19 epoch starting...\n",
            "20 epoch starting...\n",
            "21 epoch starting...\n",
            "22 epoch starting...\n",
            "23 epoch starting...\n",
            "24 epoch starting...\n",
            "25 epoch starting...\n",
            "26 epoch starting...\n",
            "27 epoch starting...\n",
            "28 epoch starting...\n",
            "29 epoch starting...\n",
            "30 epoch starting...\n",
            "31 epoch starting...\n",
            "32 epoch starting...\n",
            "33 epoch starting...\n",
            "34 epoch starting...\n",
            "35 epoch starting...\n",
            "36 epoch starting...\n",
            "37 epoch starting...\n",
            "38 epoch starting...\n",
            "39 epoch starting...\n",
            "40 epoch starting...\n",
            "41 epoch starting...\n",
            "42 epoch starting...\n",
            "43 epoch starting...\n",
            "44 epoch starting...\n",
            "45 epoch starting...\n",
            "46 epoch starting...\n",
            "47 epoch starting...\n",
            "48 epoch starting...\n",
            "49 epoch starting...\n",
            "50 epoch starting...\n"
          ],
          "name": "stdout"
        },
        {
          "output_type": "display_data",
          "data": {
            "image/png": "[encoded data removed]",
            "text/plain": [
              "<Figure size 432x288 with 1 Axes>"
            ]
          },
          "metadata": {
            "tags": []
          }
        },
        {
          "output_type": "stream",
          "text": [
            "1 epoch starting...\n",
            "2 epoch starting...\n",
            "3 epoch starting...\n",
            "4 epoch starting...\n",
            "5 epoch starting...\n",
            "6 epoch starting...\n",
            "7 epoch starting...\n",
            "8 epoch starting...\n",
            "9 epoch starting...\n",
            "10 epoch starting...\n",
            "11 epoch starting...\n",
            "12 epoch starting...\n",
            "13 epoch starting...\n",
            "14 epoch starting...\n",
            "15 epoch starting...\n",
            "16 epoch starting...\n",
            "17 epoch starting...\n",
            "18 epoch starting...\n",
            "19 epoch starting...\n",
            "20 epoch starting...\n",
            "21 epoch starting...\n",
            "22 epoch starting...\n",
            "23 epoch starting...\n",
            "24 epoch starting...\n",
            "25 epoch starting...\n",
            "26 epoch starting...\n",
            "27 epoch starting...\n",
            "28 epoch starting...\n",
            "29 epoch starting...\n",
            "30 epoch starting...\n",
            "31 epoch starting...\n",
            "32 epoch starting...\n",
            "33 epoch starting...\n",
            "34 epoch starting...\n",
            "35 epoch starting...\n",
            "36 epoch starting...\n",
            "37 epoch starting...\n",
            "38 epoch starting...\n",
            "39 epoch starting...\n",
            "40 epoch starting...\n",
            "41 epoch starting...\n",
            "42 epoch starting...\n",
            "43 epoch starting...\n",
            "44 epoch starting...\n",
            "45 epoch starting...\n",
            "46 epoch starting...\n",
            "47 epoch starting...\n",
            "48 epoch starting...\n",
            "49 epoch starting...\n",
            "50 epoch starting...\n"
          ],
          "name": "stdout"
        },
        {
          "output_type": "display_data",
          "data": {
            "image/png": "[encoded data removed]",
            "text/plain": [
              "<Figure size 432x288 with 1 Axes>"
            ]
          },
          "metadata": {
            "tags": []
          }
        },
        {
          "output_type": "stream",
          "text": [
            "1 epoch starting...\n",
            "2 epoch starting...\n",
            "3 epoch starting...\n",
            "4 epoch starting...\n",
            "5 epoch starting...\n",
            "6 epoch starting...\n",
            "7 epoch starting...\n",
            "8 epoch starting...\n",
            "9 epoch starting...\n",
            "10 epoch starting...\n",
            "11 epoch starting...\n",
            "12 epoch starting...\n",
            "13 epoch starting...\n",
            "14 epoch starting...\n",
            "15 epoch starting...\n",
            "16 epoch starting...\n",
            "17 epoch starting...\n",
            "18 epoch starting...\n",
            "19 epoch starting...\n",
            "20 epoch starting...\n",
            "21 epoch starting...\n",
            "22 epoch starting...\n",
            "23 epoch starting...\n",
            "24 epoch starting...\n",
            "25 epoch starting...\n",
            "26 epoch starting...\n",
            "27 epoch starting...\n",
            "28 epoch starting...\n",
            "29 epoch starting...\n",
            "30 epoch starting...\n",
            "31 epoch starting...\n",
            "32 epoch starting...\n",
            "33 epoch starting...\n",
            "34 epoch starting...\n",
            "35 epoch starting...\n",
            "36 epoch starting...\n",
            "37 epoch starting...\n",
            "38 epoch starting...\n",
            "39 epoch starting...\n",
            "40 epoch starting...\n",
            "41 epoch starting...\n",
            "42 epoch starting...\n",
            "43 epoch starting...\n",
            "44 epoch starting...\n",
            "45 epoch starting...\n",
            "46 epoch starting...\n",
            "47 epoch starting...\n",
            "48 epoch starting...\n",
            "49 epoch starting...\n",
            "50 epoch starting...\n"
          ],
          "name": "stdout"
        },
        {
          "output_type": "display_data",
          "data": {
            "image/png": "[encoded data removed]",
            "text/plain": [
              "<Figure size 432x288 with 1 Axes>"
            ]
          },
          "metadata": {
            "tags": []
          }
        },
        {
          "output_type": "stream",
          "text": [
            "1 epoch starting...\n",
            "2 epoch starting...\n",
            "3 epoch starting...\n",
            "4 epoch starting...\n",
            "5 epoch starting...\n",
            "6 epoch starting...\n",
            "7 epoch starting...\n",
            "8 epoch starting...\n",
            "9 epoch starting...\n",
            "10 epoch starting...\n",
            "11 epoch starting...\n",
            "12 epoch starting...\n",
            "13 epoch starting...\n",
            "14 epoch starting...\n",
            "15 epoch starting...\n",
            "16 epoch starting...\n",
            "17 epoch starting...\n",
            "18 epoch starting...\n",
            "19 epoch starting...\n",
            "20 epoch starting...\n",
            "21 epoch starting...\n",
            "22 epoch starting...\n",
            "23 epoch starting...\n",
            "24 epoch starting...\n",
            "25 epoch starting...\n",
            "26 epoch starting...\n",
            "27 epoch starting...\n",
            "28 epoch starting...\n",
            "29 epoch starting...\n",
            "30 epoch starting...\n",
            "31 epoch starting...\n",
            "32 epoch starting...\n",
            "33 epoch starting...\n",
            "34 epoch starting...\n",
            "35 epoch starting...\n",
            "36 epoch starting...\n",
            "37 epoch starting...\n",
            "38 epoch starting...\n",
            "39 epoch starting...\n",
            "40 epoch starting...\n",
            "41 epoch starting...\n",
            "42 epoch starting...\n",
            "43 epoch starting...\n",
            "44 epoch starting...\n",
            "45 epoch starting...\n",
            "46 epoch starting...\n",
            "47 epoch starting...\n",
            "48 epoch starting...\n",
            "49 epoch starting...\n",
            "50 epoch starting...\n"
          ],
          "name": "stdout"
        },
        {
          "output_type": "display_data",
          "data": {
            "image/png": "[encoded data removed]",
            "text/plain": [
              "<Figure size 432x288 with 1 Axes>"
            ]
          },
          "metadata": {
            "tags": []
          }
        },
        {
          "output_type": "stream",
          "text": [
            "1 epoch starting...\n",
            "2 epoch starting...\n",
            "3 epoch starting...\n",
            "4 epoch starting...\n",
            "5 epoch starting...\n",
            "6 epoch starting...\n",
            "7 epoch starting...\n",
            "8 epoch starting...\n",
            "9 epoch starting...\n",
            "10 epoch starting...\n",
            "11 epoch starting...\n",
            "12 epoch starting...\n",
            "13 epoch starting...\n",
            "14 epoch starting...\n",
            "15 epoch starting...\n",
            "16 epoch starting...\n",
            "17 epoch starting...\n",
            "18 epoch starting...\n",
            "19 epoch starting...\n",
            "20 epoch starting...\n",
            "21 epoch starting...\n",
            "22 epoch starting...\n",
            "23 epoch starting...\n",
            "24 epoch starting...\n",
            "25 epoch starting...\n",
            "26 epoch starting...\n",
            "27 epoch starting...\n",
            "28 epoch starting...\n",
            "29 epoch starting...\n",
            "30 epoch starting...\n",
            "31 epoch starting...\n",
            "32 epoch starting...\n",
            "33 epoch starting...\n",
            "34 epoch starting...\n",
            "35 epoch starting...\n",
            "36 epoch starting...\n",
            "37 epoch starting...\n",
            "38 epoch starting...\n",
            "39 epoch starting...\n",
            "40 epoch starting...\n",
            "41 epoch starting...\n",
            "42 epoch starting...\n",
            "43 epoch starting...\n",
            "44 epoch starting...\n",
            "45 epoch starting...\n",
            "46 epoch starting...\n",
            "47 epoch starting...\n",
            "48 epoch starting...\n",
            "49 epoch starting...\n",
            "50 epoch starting...\n"
          ],
          "name": "stdout"
        },
        {
          "output_type": "display_data",
          "data": {
            "image/png": "[encoded data removed]",
            "text/plain": [
              "<Figure size 432x288 with 1 Axes>"
            ]
          },
          "metadata": {
            "tags": []
          }
        },
        {
          "output_type": "stream",
          "text": [
            "1 epoch starting...\n",
            "2 epoch starting...\n",
            "3 epoch starting...\n",
            "4 epoch starting...\n",
            "5 epoch starting...\n",
            "6 epoch starting...\n",
            "7 epoch starting...\n",
            "8 epoch starting...\n",
            "9 epoch starting...\n",
            "10 epoch starting...\n",
            "11 epoch starting...\n",
            "12 epoch starting...\n",
            "13 epoch starting...\n",
            "14 epoch starting...\n",
            "15 epoch starting...\n",
            "16 epoch starting...\n",
            "17 epoch starting...\n",
            "18 epoch starting...\n",
            "19 epoch starting...\n",
            "20 epoch starting...\n",
            "21 epoch starting...\n",
            "22 epoch starting...\n",
            "23 epoch starting...\n",
            "24 epoch starting...\n",
            "25 epoch starting...\n",
            "26 epoch starting...\n",
            "27 epoch starting...\n",
            "28 epoch starting...\n",
            "29 epoch starting...\n",
            "30 epoch starting...\n",
            "31 epoch starting...\n",
            "32 epoch starting...\n",
            "33 epoch starting...\n",
            "34 epoch starting...\n",
            "35 epoch starting...\n",
            "36 epoch starting...\n",
            "37 epoch starting...\n",
            "38 epoch starting...\n",
            "39 epoch starting...\n",
            "40 epoch starting...\n",
            "41 epoch starting...\n",
            "42 epoch starting...\n",
            "43 epoch starting...\n",
            "44 epoch starting...\n",
            "45 epoch starting...\n",
            "46 epoch starting...\n",
            "47 epoch starting...\n",
            "48 epoch starting...\n",
            "49 epoch starting...\n",
            "50 epoch starting...\n"
          ],
          "name": "stdout"
        },
        {
          "output_type": "display_data",
          "data": {
            "image/png": "[encoded data removed]",
            "text/plain": [
              "<Figure size 432x288 with 1 Axes>"
            ]
          },
          "metadata": {
            "tags": []
          }
        },
        {
          "output_type": "stream",
          "text": [
            "1 epoch starting...\n",
            "2 epoch starting...\n",
            "3 epoch starting...\n",
            "4 epoch starting...\n",
            "5 epoch starting...\n",
            "6 epoch starting...\n",
            "7 epoch starting...\n",
            "8 epoch starting...\n",
            "9 epoch starting...\n",
            "10 epoch starting...\n",
            "11 epoch starting...\n",
            "12 epoch starting...\n",
            "13 epoch starting...\n",
            "14 epoch starting...\n",
            "15 epoch starting...\n",
            "16 epoch starting...\n",
            "17 epoch starting...\n",
            "18 epoch starting...\n",
            "19 epoch starting...\n",
            "20 epoch starting...\n",
            "21 epoch starting...\n",
            "22 epoch starting...\n",
            "23 epoch starting...\n",
            "24 epoch starting...\n",
            "25 epoch starting...\n",
            "26 epoch starting...\n",
            "27 epoch starting...\n",
            "28 epoch starting...\n",
            "29 epoch starting...\n",
            "30 epoch starting...\n",
            "31 epoch starting...\n",
            "32 epoch starting...\n",
            "33 epoch starting...\n",
            "34 epoch starting...\n",
            "35 epoch starting...\n",
            "36 epoch starting...\n",
            "37 epoch starting...\n",
            "38 epoch starting...\n",
            "39 epoch starting...\n",
            "40 epoch starting...\n",
            "41 epoch starting...\n",
            "42 epoch starting...\n",
            "43 epoch starting...\n",
            "44 epoch starting...\n",
            "45 epoch starting...\n",
            "46 epoch starting...\n",
            "47 epoch starting...\n",
            "48 epoch starting...\n",
            "49 epoch starting...\n",
            "50 epoch starting...\n"
          ],
          "name": "stdout"
        },
        {
          "output_type": "display_data",
          "data": {
            "image/png": "[encoded data removed]",
            "text/plain": [
              "<Figure size 432x288 with 1 Axes>"
            ]
          },
          "metadata": {
            "tags": []
          }
        },
        {
          "output_type": "stream",
          "text": [
            "1 epoch starting...\n",
            "2 epoch starting...\n",
            "3 epoch starting...\n",
            "4 epoch starting...\n",
            "5 epoch starting...\n",
            "6 epoch starting...\n",
            "7 epoch starting...\n",
            "8 epoch starting...\n",
            "9 epoch starting...\n",
            "10 epoch starting...\n",
            "11 epoch starting...\n",
            "12 epoch starting...\n",
            "13 epoch starting...\n",
            "14 epoch starting...\n",
            "15 epoch starting...\n",
            "16 epoch starting...\n",
            "17 epoch starting...\n",
            "18 epoch starting...\n",
            "19 epoch starting...\n",
            "20 epoch starting...\n",
            "21 epoch starting...\n",
            "22 epoch starting...\n",
            "23 epoch starting...\n",
            "24 epoch starting...\n",
            "25 epoch starting...\n",
            "26 epoch starting...\n",
            "27 epoch starting...\n",
            "28 epoch starting...\n",
            "29 epoch starting...\n",
            "30 epoch starting...\n",
            "31 epoch starting...\n",
            "32 epoch starting...\n",
            "33 epoch starting...\n",
            "34 epoch starting...\n",
            "35 epoch starting...\n",
            "36 epoch starting...\n",
            "37 epoch starting...\n",
            "38 epoch starting...\n",
            "39 epoch starting...\n",
            "40 epoch starting...\n",
            "41 epoch starting...\n",
            "42 epoch starting...\n",
            "43 epoch starting...\n",
            "44 epoch starting...\n",
            "45 epoch starting...\n",
            "46 epoch starting...\n",
            "47 epoch starting...\n",
            "48 epoch starting...\n",
            "49 epoch starting...\n",
            "50 epoch starting...\n"
          ],
          "name": "stdout"
        },
        {
          "output_type": "display_data",
          "data": {
            "image/png": "[encoded data removed]",
            "text/plain": [
              "<Figure size 432x288 with 1 Axes>"
            ]
          },
          "metadata": {
            "tags": []
          }
        },
        {
          "output_type": "stream",
          "text": [
            "1 epoch starting...\n",
            "2 epoch starting...\n",
            "3 epoch starting...\n",
            "4 epoch starting...\n",
            "5 epoch starting...\n",
            "6 epoch starting...\n",
            "7 epoch starting...\n",
            "8 epoch starting...\n",
            "9 epoch starting...\n",
            "10 epoch starting...\n",
            "11 epoch starting...\n",
            "12 epoch starting...\n",
            "13 epoch starting...\n",
            "14 epoch starting...\n",
            "15 epoch starting...\n",
            "16 epoch starting...\n",
            "17 epoch starting...\n",
            "18 epoch starting...\n",
            "19 epoch starting...\n",
            "20 epoch starting...\n",
            "21 epoch starting...\n",
            "22 epoch starting...\n",
            "23 epoch starting...\n",
            "24 epoch starting...\n",
            "25 epoch starting...\n",
            "26 epoch starting...\n",
            "27 epoch starting...\n",
            "28 epoch starting...\n",
            "29 epoch starting...\n",
            "30 epoch starting...\n",
            "31 epoch starting...\n",
            "32 epoch starting...\n",
            "33 epoch starting...\n",
            "34 epoch starting...\n",
            "35 epoch starting...\n",
            "36 epoch starting...\n",
            "37 epoch starting...\n",
            "38 epoch starting...\n",
            "39 epoch starting...\n",
            "40 epoch starting...\n",
            "41 epoch starting...\n",
            "42 epoch starting...\n",
            "43 epoch starting...\n",
            "44 epoch starting...\n",
            "45 epoch starting...\n",
            "46 epoch starting...\n",
            "47 epoch starting...\n",
            "48 epoch starting...\n",
            "49 epoch starting...\n",
            "50 epoch starting...\n"
          ],
          "name": "stdout"
        },
        {
          "output_type": "display_data",
          "data": {
            "image/png": "[encoded data removed]",
            "text/plain": [
              "<Figure size 432x288 with 1 Axes>"
            ]
          },
          "metadata": {
            "tags": []
          }
        },
        {
          "output_type": "stream",
          "text": [
            "1 epoch starting...\n",
            "2 epoch starting...\n",
            "3 epoch starting...\n",
            "4 epoch starting...\n",
            "5 epoch starting...\n",
            "6 epoch starting...\n",
            "7 epoch starting...\n",
            "8 epoch starting...\n",
            "9 epoch starting...\n",
            "10 epoch starting...\n",
            "11 epoch starting...\n",
            "12 epoch starting...\n",
            "13 epoch starting...\n",
            "14 epoch starting...\n",
            "15 epoch starting...\n",
            "16 epoch starting...\n",
            "17 epoch starting...\n",
            "18 epoch starting...\n",
            "19 epoch starting...\n",
            "20 epoch starting...\n",
            "21 epoch starting...\n",
            "22 epoch starting...\n",
            "23 epoch starting...\n",
            "24 epoch starting...\n",
            "25 epoch starting...\n",
            "26 epoch starting...\n",
            "27 epoch starting...\n",
            "28 epoch starting...\n",
            "29 epoch starting...\n",
            "30 epoch starting...\n",
            "31 epoch starting...\n",
            "32 epoch starting...\n",
            "33 epoch starting...\n",
            "34 epoch starting...\n",
            "35 epoch starting...\n",
            "36 epoch starting...\n",
            "37 epoch starting...\n",
            "38 epoch starting...\n",
            "39 epoch starting...\n",
            "40 epoch starting...\n",
            "41 epoch starting...\n",
            "42 epoch starting...\n",
            "43 epoch starting...\n",
            "44 epoch starting...\n",
            "45 epoch starting...\n",
            "46 epoch starting...\n",
            "47 epoch starting...\n",
            "48 epoch starting...\n",
            "49 epoch starting...\n",
            "50 epoch starting...\n"
          ],
          "name": "stdout"
        },
        {
          "output_type": "display_data",
          "data": {
            "image/png": "[encoded data removed]",
            "text/plain": [
              "<Figure size 432x288 with 1 Axes>"
            ]
          },
          "metadata": {
            "tags": []
          }
        },
        {
          "output_type": "stream",
          "text": [
            "1 epoch starting...\n",
            "2 epoch starting...\n",
            "3 epoch starting...\n",
            "4 epoch starting...\n",
            "5 epoch starting...\n",
            "6 epoch starting...\n",
            "7 epoch starting...\n",
            "8 epoch starting...\n",
            "9 epoch starting...\n",
            "10 epoch starting...\n",
            "11 epoch starting...\n",
            "12 epoch starting...\n",
            "13 epoch starting...\n",
            "14 epoch starting...\n",
            "15 epoch starting...\n",
            "16 epoch starting...\n",
            "17 epoch starting...\n",
            "18 epoch starting...\n",
            "19 epoch starting...\n",
            "20 epoch starting...\n",
            "21 epoch starting...\n",
            "22 epoch starting...\n",
            "23 epoch starting...\n",
            "24 epoch starting...\n",
            "25 epoch starting...\n",
            "26 epoch starting...\n",
            "27 epoch starting...\n",
            "28 epoch starting...\n",
            "29 epoch starting...\n",
            "30 epoch starting...\n",
            "31 epoch starting...\n",
            "32 epoch starting...\n",
            "33 epoch starting...\n",
            "34 epoch starting...\n",
            "35 epoch starting...\n",
            "36 epoch starting...\n",
            "37 epoch starting...\n",
            "38 epoch starting...\n",
            "39 epoch starting...\n",
            "40 epoch starting...\n",
            "41 epoch starting...\n",
            "42 epoch starting...\n",
            "43 epoch starting...\n",
            "44 epoch starting...\n",
            "45 epoch starting...\n",
            "46 epoch starting...\n",
            "47 epoch starting...\n",
            "48 epoch starting...\n",
            "49 epoch starting...\n",
            "50 epoch starting...\n"
          ],
          "name": "stdout"
        },
        {
          "output_type": "display_data",
          "data": {
            "image/png": "[encoded data removed]",
            "text/plain": [
              "<Figure size 432x288 with 1 Axes>"
            ]
          },
          "metadata": {
            "tags": []
          }
        },
        {
          "output_type": "stream",
          "text": [
            "1 epoch starting...\n",
            "2 epoch starting...\n",
            "3 epoch starting...\n",
            "4 epoch starting...\n",
            "5 epoch starting...\n",
            "6 epoch starting...\n",
            "7 epoch starting...\n",
            "8 epoch starting...\n",
            "9 epoch starting...\n",
            "10 epoch starting...\n",
            "11 epoch starting...\n",
            "12 epoch starting...\n",
            "13 epoch starting...\n",
            "14 epoch starting...\n",
            "15 epoch starting...\n",
            "16 epoch starting...\n",
            "17 epoch starting...\n",
            "18 epoch starting...\n",
            "19 epoch starting...\n",
            "20 epoch starting...\n",
            "21 epoch starting...\n",
            "22 epoch starting...\n",
            "23 epoch starting...\n",
            "24 epoch starting...\n",
            "25 epoch starting...\n",
            "26 epoch starting...\n",
            "27 epoch starting...\n",
            "28 epoch starting...\n",
            "29 epoch starting...\n",
            "30 epoch starting...\n",
            "31 epoch starting...\n",
            "32 epoch starting...\n",
            "33 epoch starting...\n",
            "34 epoch starting...\n",
            "35 epoch starting...\n",
            "36 epoch starting...\n",
            "37 epoch starting...\n",
            "38 epoch starting...\n",
            "39 epoch starting...\n",
            "40 epoch starting...\n",
            "41 epoch starting...\n",
            "42 epoch starting...\n",
            "43 epoch starting...\n",
            "44 epoch starting...\n",
            "45 epoch starting...\n",
            "46 epoch starting...\n",
            "47 epoch starting...\n",
            "48 epoch starting...\n",
            "49 epoch starting...\n",
            "50 epoch starting...\n"
          ],
          "name": "stdout"
        },
        {
          "output_type": "display_data",
          "data": {
            "image/png": "[encoded data removed]",
            "text/plain": [
              "<Figure size 432x288 with 1 Axes>"
            ]
          },
          "metadata": {
            "tags": []
          }
        },
        {
          "output_type": "stream",
          "text": [
            "1 epoch starting...\n",
            "2 epoch starting...\n",
            "3 epoch starting...\n",
            "4 epoch starting...\n",
            "5 epoch starting...\n",
            "6 epoch starting...\n",
            "7 epoch starting...\n",
            "8 epoch starting...\n",
            "9 epoch starting...\n",
            "10 epoch starting...\n",
            "11 epoch starting...\n",
            "12 epoch starting...\n",
            "13 epoch starting...\n",
            "14 epoch starting...\n",
            "15 epoch starting...\n",
            "16 epoch starting...\n",
            "17 epoch starting...\n",
            "18 epoch starting...\n",
            "19 epoch starting...\n",
            "20 epoch starting...\n",
            "21 epoch starting...\n",
            "22 epoch starting...\n",
            "23 epoch starting...\n",
            "24 epoch starting...\n",
            "25 epoch starting...\n",
            "26 epoch starting...\n",
            "27 epoch starting...\n",
            "28 epoch starting...\n",
            "29 epoch starting...\n",
            "30 epoch starting...\n",
            "31 epoch starting...\n",
            "32 epoch starting...\n",
            "33 epoch starting...\n",
            "34 epoch starting...\n",
            "35 epoch starting...\n",
            "36 epoch starting...\n",
            "37 epoch starting...\n",
            "38 epoch starting...\n",
            "39 epoch starting...\n",
            "40 epoch starting...\n",
            "41 epoch starting...\n",
            "42 epoch starting...\n",
            "43 epoch starting...\n",
            "44 epoch starting...\n",
            "45 epoch starting...\n",
            "46 epoch starting...\n",
            "47 epoch starting...\n",
            "48 epoch starting...\n",
            "49 epoch starting...\n",
            "50 epoch starting...\n"
          ],
          "name": "stdout"
        },
        {
          "output_type": "display_data",
          "data": {
            "image/png": "[encoded data removed]",
            "text/plain": [
              "<Figure size 432x288 with 1 Axes>"
            ]
          },
          "metadata": {
            "tags": []
          }
        },
        {
          "output_type": "stream",
          "text": [
            "1 epoch starting...\n",
            "2 epoch starting...\n",
            "3 epoch starting...\n",
            "4 epoch starting...\n",
            "5 epoch starting...\n",
            "6 epoch starting...\n",
            "7 epoch starting...\n",
            "8 epoch starting...\n",
            "9 epoch starting...\n",
            "10 epoch starting...\n",
            "11 epoch starting...\n",
            "12 epoch starting...\n",
            "13 epoch starting...\n",
            "14 epoch starting...\n",
            "15 epoch starting...\n",
            "16 epoch starting...\n",
            "17 epoch starting...\n",
            "18 epoch starting...\n",
            "19 epoch starting...\n",
            "20 epoch starting...\n",
            "21 epoch starting...\n",
            "22 epoch starting...\n",
            "23 epoch starting...\n",
            "24 epoch starting...\n",
            "25 epoch starting...\n",
            "26 epoch starting...\n",
            "27 epoch starting...\n",
            "28 epoch starting...\n",
            "29 epoch starting...\n",
            "30 epoch starting...\n",
            "31 epoch starting...\n",
            "32 epoch starting...\n",
            "33 epoch starting...\n",
            "34 epoch starting...\n",
            "35 epoch starting...\n",
            "36 epoch starting...\n",
            "37 epoch starting...\n",
            "38 epoch starting...\n",
            "39 epoch starting...\n",
            "40 epoch starting...\n",
            "41 epoch starting...\n",
            "42 epoch starting...\n",
            "43 epoch starting...\n",
            "44 epoch starting...\n",
            "45 epoch starting...\n",
            "46 epoch starting...\n",
            "47 epoch starting...\n",
            "48 epoch starting...\n",
            "49 epoch starting...\n",
            "50 epoch starting...\n"
          ],
          "name": "stdout"
        },
        {
          "output_type": "display_data",
          "data": {
            "image/png": "[encoded data removed]",
            "text/plain": [
              "<Figure size 432x288 with 1 Axes>"
            ]
          },
          "metadata": {
            "tags": []
          }
        },
        {
          "output_type": "stream",
          "text": [
            "1 epoch starting...\n",
            "2 epoch starting...\n",
            "3 epoch starting...\n",
            "4 epoch starting...\n",
            "5 epoch starting...\n",
            "6 epoch starting...\n",
            "7 epoch starting...\n",
            "8 epoch starting...\n",
            "9 epoch starting...\n",
            "10 epoch starting...\n",
            "11 epoch starting...\n",
            "12 epoch starting...\n",
            "13 epoch starting...\n",
            "14 epoch starting...\n",
            "15 epoch starting...\n",
            "16 epoch starting...\n",
            "17 epoch starting...\n",
            "18 epoch starting...\n",
            "19 epoch starting...\n",
            "20 epoch starting...\n",
            "21 epoch starting...\n",
            "22 epoch starting...\n",
            "23 epoch starting...\n",
            "24 epoch starting...\n",
            "25 epoch starting...\n",
            "26 epoch starting...\n",
            "27 epoch starting...\n",
            "28 epoch starting...\n",
            "29 epoch starting...\n",
            "30 epoch starting...\n",
            "31 epoch starting...\n",
            "32 epoch starting...\n",
            "33 epoch starting...\n",
            "34 epoch starting...\n",
            "35 epoch starting...\n",
            "36 epoch starting...\n",
            "37 epoch starting...\n",
            "38 epoch starting...\n",
            "39 epoch starting...\n",
            "40 epoch starting...\n",
            "41 epoch starting...\n",
            "42 epoch starting...\n",
            "43 epoch starting...\n",
            "44 epoch starting...\n",
            "45 epoch starting...\n",
            "46 epoch starting...\n",
            "47 epoch starting...\n",
            "48 epoch starting...\n",
            "49 epoch starting...\n",
            "50 epoch starting...\n"
          ],
          "name": "stdout"
        },
        {
          "output_type": "display_data",
          "data": {
            "image/png": "[encoded data removed]",
            "text/plain": [
              "<Figure size 432x288 with 1 Axes>"
            ]
          },
          "metadata": {
            "tags": []
          }
        },
        {
          "output_type": "stream",
          "text": [
            "1 epoch starting...\n",
            "2 epoch starting...\n",
            "3 epoch starting...\n",
            "4 epoch starting...\n",
            "5 epoch starting...\n",
            "6 epoch starting...\n",
            "7 epoch starting...\n",
            "8 epoch starting...\n",
            "9 epoch starting...\n",
            "10 epoch starting...\n",
            "11 epoch starting...\n",
            "12 epoch starting...\n",
            "13 epoch starting...\n",
            "14 epoch starting...\n",
            "15 epoch starting...\n",
            "16 epoch starting...\n",
            "17 epoch starting...\n",
            "18 epoch starting...\n",
            "19 epoch starting...\n",
            "20 epoch starting...\n",
            "21 epoch starting...\n",
            "22 epoch starting...\n",
            "23 epoch starting...\n",
            "24 epoch starting...\n",
            "25 epoch starting...\n",
            "26 epoch starting...\n",
            "27 epoch starting...\n",
            "28 epoch starting...\n",
            "29 epoch starting...\n",
            "30 epoch starting...\n",
            "31 epoch starting...\n",
            "32 epoch starting...\n",
            "33 epoch starting...\n",
            "34 epoch starting...\n",
            "35 epoch starting...\n",
            "36 epoch starting...\n",
            "37 epoch starting...\n",
            "38 epoch starting...\n",
            "39 epoch starting...\n",
            "40 epoch starting...\n",
            "41 epoch starting...\n",
            "42 epoch starting...\n",
            "43 epoch starting...\n",
            "44 epoch starting...\n",
            "45 epoch starting...\n",
            "46 epoch starting...\n",
            "47 epoch starting...\n",
            "48 epoch starting...\n",
            "49 epoch starting...\n",
            "50 epoch starting...\n"
          ],
          "name": "stdout"
        },
        {
          "output_type": "display_data",
          "data": {
            "image/png": "[encoded data removed]",
            "text/plain": [
              "<Figure size 432x288 with 1 Axes>"
            ]
          },
          "metadata": {
            "tags": []
          }
        }
      ]
    },
    {
      "cell_type": "code",
      "metadata": {
        "id": "ZnqOSWuZ_3qg",
        "colab_type": "code",
        "colab": {
          "base_uri": "https://localhost:8080/",
          "height": 51
        },
        "outputId": "230b04aa-03fe-42b2-d8a2-14c760b73c61"
      },
      "source": [
        "print(np.seterr(over='raise'))\n",
        "\n",
        "def f():\n",
        "  return np.exp(1000)\n",
        "\n",
        "def g():\n",
        "  try:\n",
        "    return f()\n",
        "  except:\n",
        "    return \"oh no\"\n",
        "\n",
        "g()"
      ],
      "execution_count": 22,
      "outputs": [
        {
          "output_type": "stream",
          "text": [
            "{'divide': 'warn', 'over': 'raise', 'under': 'ignore', 'invalid': 'warn'}\n"
          ],
          "name": "stdout"
        },
        {
          "output_type": "execute_result",
          "data": {
            "text/plain": [
              "'oh no'"
            ]
          },
          "metadata": {
            "tags": []
          },
          "execution_count": 22
        }
      ]
    }
  ]
}